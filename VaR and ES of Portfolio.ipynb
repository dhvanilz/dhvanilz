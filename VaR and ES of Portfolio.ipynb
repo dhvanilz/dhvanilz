{
 "cells": [
  {
   "cell_type": "markdown",
   "id": "507718e5",
   "metadata": {},
   "source": [
    "# Value at Risk and Expected Shortfall for Portfolio"
   ]
  },
  {
   "cell_type": "markdown",
   "id": "15897240",
   "metadata": {},
   "source": [
    "Calculation of Value at Risk and Expected Shortfall for a portfolio of stocks held by my family.\n",
    "\n",
    "Portfolio consists of Indian stocks.\n",
    "\n",
    "I have manually extracted the list of stocks from the broker generated csv report of current holdings as of 22nd December 2023."
   ]
  },
  {
   "cell_type": "markdown",
   "id": "74c85c12",
   "metadata": {},
   "source": [
    "Importing required libraries"
   ]
  },
  {
   "cell_type": "code",
   "execution_count": 1,
   "id": "0c414502",
   "metadata": {},
   "outputs": [],
   "source": [
    "import pandas as pd\n",
    "import numpy as np\n",
    "import datetime as dt\n",
    "import yfinance as yf\n",
    "import matplotlib.pyplot as plt"
   ]
  },
  {
   "cell_type": "markdown",
   "id": "1f8fb83d",
   "metadata": {},
   "source": [
    "initializing time window of 10 years\n",
    "\n",
    "initializing stock data variables"
   ]
  },
  {
   "cell_type": "code",
   "execution_count": 3,
   "id": "80f4b782",
   "metadata": {},
   "outputs": [],
   "source": [
    "end_date = dt.date.today()\n",
    "start_date = end_date - dt.timedelta (3652)\n",
    "\n",
    "stock_data = pd.read_csv(r\"C:\\Users\\dhvanilzaveri\\MBZPMSECTickers.csv\")\n",
    "stock_tickers = list(stock_data['Ticker'])\n",
    "stock_qty = list(stock_data['Quantity'])"
   ]
  },
  {
   "cell_type": "markdown",
   "id": "0685ce6f",
   "metadata": {},
   "source": [
    "Defining a function to get stock data"
   ]
  },
  {
   "cell_type": "code",
   "execution_count": 10,
   "id": "8ae24890",
   "metadata": {},
   "outputs": [],
   "source": [
    "def get_stockData(stocks, start, end):\n",
    "    stockData = yf.download(stocks,start=start,end=end)\n",
    "    stockData = stockData['Close']\n",
    "    returns = stockData.pct_change()\n",
    "    mean_Returns = returns.mean()\n",
    "    cov_Matrix = returns.cov()\n",
    "    return stockData,returns,mean_Returns,cov_Matrix\n"
   ]
  },
  {
   "cell_type": "markdown",
   "id": "8bb00c3e",
   "metadata": {},
   "source": [
    "Function to measure portfolio performance"
   ]
  },
  {
   "cell_type": "code",
   "execution_count": 7,
   "id": "09b1842f",
   "metadata": {},
   "outputs": [],
   "source": [
    "def pf_performance(weights, mean_returns):\n",
    "    pf_returns = np.sum(mean_returns*weights)\n",
    "    return pf_returns"
   ]
  },
  {
   "cell_type": "markdown",
   "id": "fc155169",
   "metadata": {},
   "source": [
    "Calling functions to get stock data for tickers and cleaning data"
   ]
  },
  {
   "cell_type": "code",
   "execution_count": 11,
   "id": "0d80cac1",
   "metadata": {},
   "outputs": [
    {
     "name": "stdout",
     "output_type": "stream",
     "text": [
      "[*********************100%***********************]  91 of 91 completed\n"
     ]
    }
   ],
   "source": [
    "close_prices, returns, mean_returns, cov_matrix = get_stockData(stock_tickers,start_date, end_date)\n",
    "close_prices = close_prices.dropna()\n",
    "returns = returns.dropna()"
   ]
  },
  {
   "cell_type": "markdown",
   "id": "c00650f5",
   "metadata": {},
   "source": [
    "Calculating portfolio metrics - valuation and returns.\n",
    "Assuming fixed allocation over the whole period"
   ]
  },
  {
   "cell_type": "code",
   "execution_count": 12,
   "id": "b9255488",
   "metadata": {},
   "outputs": [],
   "source": [
    "close_prices['portfolio'] = close_prices.dot(stock_qty)\n",
    "returns['portfolio'] = close_prices['portfolio'].pct_change()"
   ]
  },
  {
   "cell_type": "code",
   "execution_count": null,
   "id": "29cf0c7c",
   "metadata": {},
   "outputs": [],
   "source": []
  }
 ],
 "metadata": {
  "kernelspec": {
   "display_name": "Python 3 (ipykernel)",
   "language": "python",
   "name": "python3"
  },
  "language_info": {
   "codemirror_mode": {
    "name": "ipython",
    "version": 3
   },
   "file_extension": ".py",
   "mimetype": "text/x-python",
   "name": "python",
   "nbconvert_exporter": "python",
   "pygments_lexer": "ipython3",
   "version": "3.10.9"
  }
 },
 "nbformat": 4,
 "nbformat_minor": 5
}
