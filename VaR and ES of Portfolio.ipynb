{
 "cells": [
  {
   "cell_type": "markdown",
   "id": "507718e5",
   "metadata": {},
   "source": [
    "# Value at Risk and Expected Shortfall for Portfolio"
   ]
  },
  {
   "cell_type": "markdown",
   "id": "15897240",
   "metadata": {},
   "source": [
    "Calculation of Value at Risk and Expected Shortfall for a portfolio of stocks held by my family.\n",
    "\n",
    "Portfolio consists of Indian stocks.\n",
    "\n",
    "I have manually extracted the list of stocks from the broker generated csv report of current holdings as of 22nd December 2023."
   ]
  },
  {
   "cell_type": "markdown",
   "id": "74c85c12",
   "metadata": {},
   "source": [
    "Importing required libraries"
   ]
  },
  {
   "cell_type": "code",
   "execution_count": 4,
   "id": "0c414502",
   "metadata": {},
   "outputs": [],
   "source": [
    "import pandas as pd\n",
    "import numpy as np\n",
    "import datetime as dt\n",
    "import yfinance as yf\n",
    "import matplotlib.pyplot as plt"
   ]
  },
  {
   "cell_type": "markdown",
   "id": "1f8fb83d",
   "metadata": {},
   "source": [
    "initializing time window of 10 years\n",
    "\n",
    "initializing stock data variables"
   ]
  },
  {
   "cell_type": "code",
   "execution_count": 5,
   "id": "80f4b782",
   "metadata": {},
   "outputs": [],
   "source": [
    "end_date = dt.date.today()\n",
    "start_date = end_date - dt.timedelta (3652)\n",
    "\n",
    "stock_data = pd.read_csv(r\"C:\\Users\\dhvanilzaveri\\MBZPMSECTickers.csv\")\n",
    "stock_tickers = list(stock_data['Ticker'])\n",
    "stock_qty = list(stock_data['Quantity'])"
   ]
  },
  {
   "cell_type": "markdown",
   "id": "0685ce6f",
   "metadata": {},
   "source": [
    "Defining a function to get stock data"
   ]
  },
  {
   "cell_type": "code",
   "execution_count": 6,
   "id": "8ae24890",
   "metadata": {},
   "outputs": [],
   "source": [
    "def get_stockData(stocks, start, end):\n",
    "    stockData = yf.download(stocks,start=start,end=end)\n",
    "    stockData = stockData['Close']\n",
    "    returns = stockData.pct_change()\n",
    "    mean_Returns = returns.mean()\n",
    "    cov_Matrix = returns.cov()\n",
    "    return stockData,returns,mean_Returns,cov_Matrix\n"
   ]
  },
  {
   "cell_type": "markdown",
   "id": "8bb00c3e",
   "metadata": {},
   "source": [
    "Function to measure portfolio performance"
   ]
  },
  {
   "cell_type": "code",
   "execution_count": 7,
   "id": "09b1842f",
   "metadata": {},
   "outputs": [],
   "source": [
    "def pf_performance(weights, mean_returns):\n",
    "    pf_returns = np.sum(mean_returns*weights)\n",
    "    return pf_returns"
   ]
  },
  {
   "cell_type": "markdown",
   "id": "fc155169",
   "metadata": {},
   "source": [
    "Calling functions to get stock data for tickers and cleaning data"
   ]
  },
  {
   "cell_type": "code",
   "execution_count": 8,
   "id": "0d80cac1",
   "metadata": {},
   "outputs": [
    {
     "name": "stdout",
     "output_type": "stream",
     "text": [
      "[*********************100%***********************]  91 of 91 completed\n"
     ]
    }
   ],
   "source": [
    "close_prices, returns, mean_returns, cov_matrix = get_stockData(stock_tickers,start_date, end_date)\n",
    "close_prices = close_prices.dropna()\n",
    "returns = returns.dropna()"
   ]
  },
  {
   "cell_type": "markdown",
   "id": "c00650f5",
   "metadata": {},
   "source": [
    "Calculating portfolio metrics - valuation and returns.\n",
    "Assuming fixed allocation over the whole period"
   ]
  },
  {
   "cell_type": "code",
   "execution_count": 9,
   "id": "b9255488",
   "metadata": {},
   "outputs": [],
   "source": [
    "close_prices['portfolio'] = close_prices.dot(stock_qty)\n",
    "returns['portfolio'] = close_prices['portfolio'].pct_change()"
   ]
  },
  {
   "cell_type": "markdown",
   "id": "f8c15970",
   "metadata": {},
   "source": [
    "Historical Value at Risk calculation"
   ]
  },
  {
   "cell_type": "code",
   "execution_count": 10,
   "id": "954df521",
   "metadata": {},
   "outputs": [],
   "source": [
    "def historical_VAR(returns, alpha=5):\n",
    "    if isinstance(returns, pd.Series):\n",
    "        return np.percentile(returns, alpha)\n",
    "    elif isinstance(returns, pd.DataFrame):\n",
    "        return returns.aggregate(historical_VAR,alpha=5)\n",
    "    else :\n",
    "        raise TypeError(\"Expected returns to be DataFrame or Series\")"
   ]
  },
  {
   "cell_type": "markdown",
   "id": "c9b434ad",
   "metadata": {},
   "source": [
    "Historical Expected Shortfall calculation"
   ]
  },
  {
   "cell_type": "code",
   "execution_count": 11,
   "id": "8f85b43d",
   "metadata": {},
   "outputs": [],
   "source": [
    "def historical_ES(returns, alpha = 5):\n",
    "    if isinstance(returns, pd.Series):\n",
    "        belowVAR = returns <= historical_VAR(returns, alpha = alpha)\n",
    "        return returns[belowVAR].mean\n",
    "    elif isinstance(returns, pd.DataFrame):\n",
    "        return returns.aggregate(historical_ES,alpha=5)\n",
    "    else :\n",
    "        raise TypeError(\"Expected returns to be DataFrame or series\")"
   ]
  },
  {
   "cell_type": "code",
   "execution_count": 12,
   "id": "243f23db",
   "metadata": {},
   "outputs": [
    {
     "name": "stdout",
     "output_type": "stream",
     "text": [
      "nan\n",
      "<bound method NDFrame._add_numeric_operations.<locals>.mean of Series([], Name: portfolio, dtype: float64)>\n"
     ]
    },
    {
     "data": {
      "text/plain": [
       "(array([ 1.,  0.,  1.,  0.,  1.,  0.,  0.,  1.,  0.,  0.,  1.,  0.,  1.,\n",
       "         1.,  5.,  2.,  4.,  8.,  5.,  8., 12.,  7.,  8.,  8.,  7.,  8.,\n",
       "         7.,  1.,  0.,  1.]),\n",
       " array([-0.03462474, -0.03280875, -0.03099276, -0.02917677, -0.02736078,\n",
       "        -0.02554479, -0.02372879, -0.0219128 , -0.02009681, -0.01828082,\n",
       "        -0.01646483, -0.01464884, -0.01283285, -0.01101686, -0.00920087,\n",
       "        -0.00738488, -0.00556889, -0.0037529 , -0.0019369 , -0.00012091,\n",
       "         0.00169508,  0.00351107,  0.00532706,  0.00714305,  0.00895904,\n",
       "         0.01077503,  0.01259102,  0.01440701,  0.016223  ,  0.01803899,\n",
       "         0.01985499]),\n",
       " <BarContainer object of 30 artists>)"
      ]
     },
     "execution_count": 12,
     "metadata": {},
     "output_type": "execute_result"
    },
    {
     "data": {
      "image/png": "[encoded data removed]",
      "text/plain": [
       "<Figure size 640x480 with 1 Axes>"
      ]
     },
     "metadata": {},
     "output_type": "display_data"
    }
   ],
   "source": [
    "VAR_pf = (historical_VAR(returns, alpha=5))        \n",
    "ES_pf = historical_ES(returns,alpha=5)\n",
    "\n",
    "print(VAR_pf['portfolio'])\n",
    "print(ES_pf['portfolio'])\n",
    "plt.hist(returns['portfolio'], bins = 30)"
   ]
  },
  {
   "cell_type": "code",
   "execution_count": null,
   "id": "69899ba6",
   "metadata": {},
   "outputs": [],
   "source": []
  }
 ],
 "metadata": {
  "kernelspec": {
   "display_name": "Python 3 (ipykernel)",
   "language": "python",
   "name": "python3"
  },
  "language_info": {
   "codemirror_mode": {
    "name": "ipython",
    "version": 3
   },
   "file_extension": ".py",
   "mimetype": "text/x-python",
   "name": "python",
   "nbconvert_exporter": "python",
   "pygments_lexer": "ipython3",
   "version": "3.10.9"
  }
 },
 "nbformat": 4,
 "nbformat_minor": 5
}
